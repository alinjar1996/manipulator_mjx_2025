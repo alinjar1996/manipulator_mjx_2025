{
 "cells": [
  {
   "cell_type": "code",
   "execution_count": null,
   "metadata": {},
   "outputs": [],
   "source": [
    "import numpy as np\n",
    "from mjx_planner import cem_planner\n",
    "import mujoco.mjx as mjx \n",
    "import mujoco\n",
    "import time\n",
    "import jax.numpy as jnp\n",
    "import jax\n",
    "import os\n",
    "from mujoco import viewer\n"
   ]
  },
  {
   "cell_type": "code",
   "execution_count": null,
   "metadata": {},
   "outputs": [],
   "source": [
    "num_dof = 6\n",
    "num_batch = 1000\n",
    "mpc_steps = 20\n",
    "\n",
    "cem =  cem_planner(num_dof, num_batch)\n",
    "model = cem.model\n",
    "data = cem.data\n",
    "\n",
    "qvel = cem.compute_cem(data.qpos[:6])\n",
    "\n",
    "with viewer.launch_passive(model, data) as viewer_:\n",
    "    viewer_.cam.distance = 4\n",
    "    viewer_.opt.flags[mujoco.mjtVisFlag.mjVIS_CONTACTPOINT] = True\n",
    "\n",
    "    start = time.time()\n",
    "    while viewer_.is_running():\n",
    "        step_start = time.time()\n",
    "        qvel = cem.compute_cem(data.qpos[:6])\n",
    "        data.qvel[:6] = qvel\n",
    "\n",
    "        time_until_next_step = model.opt.timestep - (time.time() - step_start)\n",
    "        if time_until_next_step > 0:\n",
    "            time.sleep(time_until_next_step)  "
   ]
  }
 ],
 "metadata": {
  "kernelspec": {
   "display_name": "thesis_env",
   "language": "python",
   "name": "python3"
  },
  "language_info": {
   "codemirror_mode": {
    "name": "ipython",
    "version": 3
   },
   "file_extension": ".py",
   "mimetype": "text/x-python",
   "name": "python",
   "nbconvert_exporter": "python",
   "pygments_lexer": "ipython3",
   "version": "3.12.3"
  }
 },
 "nbformat": 4,
 "nbformat_minor": 2
}
